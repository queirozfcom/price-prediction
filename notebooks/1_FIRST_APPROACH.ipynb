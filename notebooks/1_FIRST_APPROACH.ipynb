{
 "cells": [
  {
   "cell_type": "code",
   "execution_count": 1,
   "metadata": {
    "collapsed": false,
    "deletable": true,
    "editable": true
   },
   "outputs": [],
   "source": [
    "%matplotlib inline\n",
    "import pandas as pd\n",
    "import numpy as np\n",
    "import matplotlib.pyplot as plt\n",
    "import sys\n",
    "\n",
    "# helper functions\n",
    "sys.path.insert(0, \"../src/lib\")\n",
    "\n",
    "import dataset as dataset_funcs\n",
    "# import cleaning as cleaning_funcs\n",
    "\n",
    "pd.set_option('display.float_format', lambda x: '%.3f' % x)"
   ]
  },
  {
   "cell_type": "code",
   "execution_count": 4,
   "metadata": {
    "collapsed": false,
    "deletable": true,
    "editable": true
   },
   "outputs": [
    {
     "data": {
      "text/html": [
       "<div>\n",
       "<table border=\"1\" class=\"dataframe\">\n",
       "  <thead>\n",
       "    <tr style=\"text-align: right;\">\n",
       "      <th></th>\n",
       "      <th>PROD_ID</th>\n",
       "      <th>DATE_ORDER</th>\n",
       "      <th>QTY_ORDER</th>\n",
       "      <th>REVENUE</th>\n",
       "      <th>UNIT_PRICE</th>\n",
       "    </tr>\n",
       "  </thead>\n",
       "  <tbody>\n",
       "    <tr>\n",
       "      <th>0</th>\n",
       "      <td>P6</td>\n",
       "      <td>2015-08-02</td>\n",
       "      <td>1.000</td>\n",
       "      <td>1808.990</td>\n",
       "      <td>1808.990</td>\n",
       "    </tr>\n",
       "    <tr>\n",
       "      <th>1</th>\n",
       "      <td>P6</td>\n",
       "      <td>2015-08-17</td>\n",
       "      <td>1.000</td>\n",
       "      <td>1674.000</td>\n",
       "      <td>1674.000</td>\n",
       "    </tr>\n",
       "    <tr>\n",
       "      <th>2</th>\n",
       "      <td>P6</td>\n",
       "      <td>2015-08-17</td>\n",
       "      <td>1.000</td>\n",
       "      <td>1673.950</td>\n",
       "      <td>1673.950</td>\n",
       "    </tr>\n",
       "    <tr>\n",
       "      <th>3</th>\n",
       "      <td>P6</td>\n",
       "      <td>2015-08-11</td>\n",
       "      <td>1.000</td>\n",
       "      <td>1674.000</td>\n",
       "      <td>1674.000</td>\n",
       "    </tr>\n",
       "    <tr>\n",
       "      <th>4</th>\n",
       "      <td>P6</td>\n",
       "      <td>2015-08-17</td>\n",
       "      <td>1.000</td>\n",
       "      <td>1674.000</td>\n",
       "      <td>1674.000</td>\n",
       "    </tr>\n",
       "  </tbody>\n",
       "</table>\n",
       "</div>"
      ],
      "text/plain": [
       "  PROD_ID DATE_ORDER  QTY_ORDER  REVENUE  UNIT_PRICE\n",
       "0      P6 2015-08-02      1.000 1808.990    1808.990\n",
       "1      P6 2015-08-17      1.000 1674.000    1674.000\n",
       "2      P6 2015-08-17      1.000 1673.950    1673.950\n",
       "3      P6 2015-08-11      1.000 1674.000    1674.000\n",
       "4      P6 2015-08-17      1.000 1674.000    1674.000"
      ]
     },
     "execution_count": 4,
     "metadata": {},
     "output_type": "execute_result"
    }
   ],
   "source": [
    "sales_df = pd.read_csv('../data/raw/sales.csv')\n",
    "sales_df.DATE_ORDER = sales_df.DATE_ORDER.astype(\"datetime64\")\n",
    "sales_df[\"UNIT_PRICE\"] = sales_df[\"REVENUE\"] / sales_df[\"QTY_ORDER\"]\n",
    "sales_df.head()"
   ]
  },
  {
   "cell_type": "markdown",
   "metadata": {
    "deletable": true,
    "editable": true
   },
   "source": [
    "as we mentioned on the **EXPLORATORY DATA ANALYSIS**, we will remove some bad data from our dataset to avoid propagating these errors to the model (using helper functions)."
   ]
  },
  {
   "cell_type": "code",
   "execution_count": 5,
   "metadata": {
    "collapsed": false,
    "deletable": true,
    "editable": true
   },
   "outputs": [],
   "source": [
    "# sales_df = cleaning_funcs.clean_sales_dataframe(sales_df);sales_df"
   ]
  },
  {
   "cell_type": "markdown",
   "metadata": {
    "deletable": true,
    "editable": true
   },
   "source": [
    "let's split the data into each product (because each product may have different dynamics)"
   ]
  },
  {
   "cell_type": "code",
   "execution_count": 6,
   "metadata": {
    "collapsed": false,
    "deletable": true,
    "editable": true
   },
   "outputs": [],
   "source": [
    "grouped = sales_df.groupby([sales_df.PROD_ID])\n",
    "(p1,p2,p3,p4,p5,p6,p7,p8,p9) = [grouped.get_group(prod_id) for prod_id in grouped.groups.keys()]"
   ]
  },
  {
   "cell_type": "code",
   "execution_count": 7,
   "metadata": {
    "collapsed": true,
    "deletable": true,
    "editable": true
   },
   "outputs": [],
   "source": [
    "# let's also aggregate rows with the same timestamp\n",
    "\n",
    "# LATER\n",
    "\n",
    "# dataset7 = p7.groupby(p7.DATE_ORDER).agg({\n",
    "#    \"QTY_ORDER\":np.sum,\n",
    "#    \"UNIT_PRICE\": np.mean\n",
    "#})"
   ]
  },
  {
   "cell_type": "markdown",
   "metadata": {
    "deletable": true,
    "editable": true
   },
   "source": [
    "let's use P7 in the first run because it's the product the with the most available data"
   ]
  },
  {
   "cell_type": "code",
   "execution_count": 8,
   "metadata": {
    "collapsed": false,
    "deletable": true,
    "editable": true
   },
   "outputs": [],
   "source": [
    "p7 = p7.sort_values(['DATE_ORDER'])"
   ]
  },
  {
   "cell_type": "code",
   "execution_count": 13,
   "metadata": {
    "collapsed": false,
    "deletable": true,
    "editable": true
   },
   "outputs": [],
   "source": [
    "# now just select the columns we will use in this very simple model\n",
    "p7 = p7[[\"UNIT_PRICE\",\"QTY_ORDER\"]]"
   ]
  },
  {
   "cell_type": "code",
   "execution_count": 10,
   "metadata": {
    "collapsed": false,
    "deletable": true,
    "editable": true
   },
   "outputs": [],
   "source": [
    "X,y = dataset_funcs.make_Xy_simple(p7)"
   ]
  },
  {
   "cell_type": "code",
   "execution_count": 11,
   "metadata": {
    "collapsed": false,
    "deletable": true,
    "editable": true
   },
   "outputs": [
    {
     "data": {
      "text/plain": [
       "((27840, 1), (27840,))"
      ]
     },
     "execution_count": 11,
     "metadata": {},
     "output_type": "execute_result"
    }
   ],
   "source": [
    "X.shape,y.shape"
   ]
  },
  {
   "cell_type": "markdown",
   "metadata": {
    "deletable": true,
    "editable": true
   },
   "source": [
    "For the first approach I will use a simple linear model (linear regression) with a ridge (i.e., L2) regularizer so as to avoid overfitting, since we don't have a lot of data here.\n",
    "\n",
    "The class `RidgeCV` performs Ridge Regression and performs cross validation to select the most suitable alpha (regularization parameter)."
   ]
  },
  {
   "cell_type": "code",
   "execution_count": 62,
   "metadata": {
    "collapsed": true,
    "deletable": true,
    "editable": true
   },
   "outputs": [],
   "source": [
    "from sklearn.model_selection import train_test_split, KFold\n",
    "from sklearn.linear_model import RidgeCV, LinearRegression\n",
    "from sklearn.metrics import mean_absolute_error"
   ]
  },
  {
   "cell_type": "code",
   "execution_count": 65,
   "metadata": {
    "collapsed": false,
    "deletable": true,
    "editable": true
   },
   "outputs": [
    {
     "name": "stdout",
     "output_type": "stream",
     "text": [
      "MAE for cross validated model: 0.13449337158309696\n"
     ]
    },
    {
     "data": {
      "image/png": "[encoded data removed]",
      "text/plain": [
       "<matplotlib.figure.Figure at 0x7fd250340b38>"
      ]
     },
     "metadata": {},
     "output_type": "display_data"
    }
   ],
   "source": [
    "kf = KFold(n_splits=8)\n",
    "\n",
    "fig, axes = plt.subplots(2, 4, figsize=(20,10))\n",
    "\n",
    "# I think MAE (mean absolute error) is easier to interpret than MSE (mean squared error)\n",
    "MAES = []\n",
    "\n",
    "for split,(train_index, test_index) in enumerate(kf.split(X)):  \n",
    "    X_train, X_test = X[train_index], X[test_index]\n",
    "    y_train, y_test = y[train_index], y[test_index]\n",
    "\n",
    "    regr = LinearRegression()\n",
    "    regr.fit(X_train,y_train)\n",
    "    MAE= mean_absolute_error(y_test,regr.predict(X_test))\n",
    "    MAES.append(MAE)\n",
    "    axes[split // 4][split % 4].scatter(X_test, y_test, color='black')\n",
    "    axes[split // 4][split % 4].plot(X_test, regr.predict(X_test), color='green')\n",
    "    \n",
    "final_MAE = np.array(MAES).mean()\n",
    "\n",
    "print(\"MAE for cross validated model: {0}\".format(final_MAE))"
   ]
  },
  {
   "cell_type": "code",
   "execution_count": null,
   "metadata": {
    "collapsed": true,
    "deletable": true,
    "editable": true
   },
   "outputs": [],
   "source": []
  }
 ],
 "metadata": {
  "kernelspec": {
   "display_name": "Python 3",
   "language": "python",
   "name": "python3"
  },
  "language_info": {
   "codemirror_mode": {
    "name": "ipython",
    "version": 3
   },
   "file_extension": ".py",
   "mimetype": "text/x-python",
   "name": "python",
   "nbconvert_exporter": "python",
   "pygments_lexer": "ipython3",
   "version": "3.4.3"
  }
 },
 "nbformat": 4,
 "nbformat_minor": 2
}
